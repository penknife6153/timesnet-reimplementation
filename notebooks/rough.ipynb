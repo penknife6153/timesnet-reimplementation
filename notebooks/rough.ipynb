{
 "cells": [
  {
   "cell_type": "markdown",
   "id": "4a23ac8f",
   "metadata": {},
   "source": [
    "exploring top k and fft"
   ]
  },
  {
   "cell_type": "code",
   "execution_count": null,
   "id": "4b6638fe",
   "metadata": {},
   "outputs": [],
   "source": [
    "A_prev, freqs, periods = "
   ]
  },
  {
   "cell_type": "code",
   "execution_count": 39,
   "id": "c978ae95",
   "metadata": {},
   "outputs": [
    {
     "name": "stdout",
     "output_type": "stream",
     "text": [
      "mean_amps = tensor([1.2689, 1.0900, 1.4195, 1.1849, 0.9105, 0.9596, 1.3262, 1.2720, 0.8588,\n",
      "        1.1586, 1.2602, 1.2626])\n"
     ]
    }
   ],
   "source": [
    "sample_t = 12\n",
    "sample_c = 3\n",
    "\n",
    "mean_amps = torch.mean(torch.abs(torch.fft.rfft(torch.rand([sample_t, sample_c]))), dim=1)\n",
    "print(f\"{mean_amps = }\")"
   ]
  },
  {
   "cell_type": "code",
   "execution_count": 38,
   "id": "76b559d6",
   "metadata": {},
   "outputs": [
    {
     "data": {
      "text/plain": [
       "torch.return_types.topk(\n",
       "values=tensor([1.9793, 1.8895, 1.7872]),\n",
       "indices=tensor([5, 3, 7]))"
      ]
     },
     "execution_count": 38,
     "metadata": {},
     "output_type": "execute_result"
    }
   ],
   "source": [
    "torch.topk(mean_amps[:], k=3)"
   ]
  },
  {
   "cell_type": "code",
   "execution_count": 2,
   "id": "881b4d6a",
   "metadata": {},
   "outputs": [],
   "source": [
    "import random"
   ]
  },
  {
   "cell_type": "code",
   "execution_count": null,
   "id": "3c97407a",
   "metadata": {},
   "outputs": [],
   "source": [
    "int_list = [random.randint(0, 100) for _ in range(98)]\n",
    "period = 8"
   ]
  },
  {
   "cell_type": "markdown",
   "id": "ff97bfea",
   "metadata": {},
   "source": [
    "padding logic"
   ]
  },
  {
   "cell_type": "code",
   "execution_count": null,
   "id": "ae9394c2",
   "metadata": {},
   "outputs": [
    {
     "name": "stdout",
     "output_type": "stream",
     "text": [
      "checkpoint = 96\n"
     ]
    }
   ],
   "source": [
    "checkpoint = len(int_list) // period * period\n",
    "print(f\"{checkpoint = }\")"
   ]
  },
  {
   "cell_type": "code",
   "execution_count": 13,
   "id": "0e6e651c",
   "metadata": {},
   "outputs": [
    {
     "name": "stdout",
     "output_type": "stream",
     "text": [
      "[45, 24]\n"
     ]
    }
   ],
   "source": [
    "rem_int = int_list[checkpoint:]\n",
    "print(rem_int)"
   ]
  },
  {
   "cell_type": "code",
   "execution_count": null,
   "id": "5619d22c",
   "metadata": {},
   "outputs": [
    {
     "name": "stdout",
     "output_type": "stream",
     "text": [
      "padding_length = 6\n"
     ]
    }
   ],
   "source": [
    "padding_length = period - len(rem_int)\n",
    "print(f\"{padding_length = }\")"
   ]
  },
  {
   "cell_type": "code",
   "execution_count": 19,
   "id": "a3992d62",
   "metadata": {},
   "outputs": [],
   "source": [
    "rem_int_padded = rem_int + int_list[:padding_length]"
   ]
  },
  {
   "cell_type": "code",
   "execution_count": 24,
   "id": "75b6eb5c",
   "metadata": {},
   "outputs": [],
   "source": [
    "padded_list = int_list[:checkpoint] + rem_int_padded"
   ]
  },
  {
   "cell_type": "code",
   "execution_count": 26,
   "id": "65bcbd08",
   "metadata": {},
   "outputs": [
    {
     "data": {
      "text/plain": [
       "13.0"
      ]
     },
     "execution_count": 26,
     "metadata": {},
     "output_type": "execute_result"
    }
   ],
   "source": [
    "len(padded_list) / 8"
   ]
  },
  {
   "cell_type": "code",
   "execution_count": null,
   "id": "44be7a0d",
   "metadata": {},
   "outputs": [],
   "source": []
  }
 ],
 "metadata": {
  "kernelspec": {
   "display_name": "Python 3 (ipykernel)",
   "language": "python",
   "name": "python3"
  },
  "language_info": {
   "codemirror_mode": {
    "name": "ipython",
    "version": 3
   },
   "file_extension": ".py",
   "mimetype": "text/x-python",
   "name": "python",
   "nbconvert_exporter": "python",
   "pygments_lexer": "ipython3",
   "version": "3.11.9"
  }
 },
 "nbformat": 4,
 "nbformat_minor": 5
}

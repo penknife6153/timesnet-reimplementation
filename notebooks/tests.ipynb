{
 "cells": [
  {
   "cell_type": "code",
   "execution_count": null,
   "id": "67955f5d-1585-4d8f-8792-e20ae715582c",
   "metadata": {},
   "outputs": [],
   "source": [
    "import torch\n",
    "import torch.nn as nn\n",
    "import torch.nn.functional as F\n",
    "from ..model import fft_period, transform_to_2d"
   ]
  },
  {
   "cell_type": "code",
   "execution_count": 23,
   "id": "02b4b1da-ffeb-45ab-a242-5e24bda30b3d",
   "metadata": {},
   "outputs": [
    {
     "name": "stdout",
     "output_type": "stream",
     "text": [
      "input_data.shape = torch.Size([5, 3])\n",
      "tensor([[0.5575, 0.3287, 0.6671],\n",
      "        [0.6782, 0.6551, 0.6376],\n",
      "        [0.7104, 0.9330, 0.0359],\n",
      "        [0.7629, 0.3241, 0.1230],\n",
      "        [0.9157, 0.4964, 0.7528]])\n",
      "A [length=3] = tensor([2.8595, 0.6275, 0.4103])\n",
      "freqs [length=2] = tensor([1, 2])\n",
      "periods [length=2] = tensor([5, 3], dtype=torch.int32)\n"
     ]
    }
   ],
   "source": [
    "input_data = torch.rand(5,3)\n",
    "\n",
    "res_amplitudes, res_frequencies, res_periods = fft_period(x_1d=input_data, k=2)\n",
    "print(f\"{input_data.shape = }\\n{input_data}\")\n",
    "print(f\"A [length={len(res_amplitudes)}] = {res_amplitudes}\")\n",
    "print(f\"freqs [length={len(res_frequencies)}] = {res_frequencies}\")\n",
    "print(f\"periods [length={len(res_periods)}] = {res_periods}\")"
   ]
  },
  {
   "cell_type": "code",
   "execution_count": null,
   "id": "c895d26e-9346-40ca-a6c5-bea1b36d6dae",
   "metadata": {},
   "outputs": [],
   "source": [
    "T, C = 5, 3  # time steps, variates\n",
    "x_1d = torch.randn(T, C)\n",
    "\n",
    "# Transform to 2D variations\n",
    "x_2d_list, freqs, periods = transform_to_2d(x_1d, k=2)\n",
    "\n",
    "print(f\"Original shape: {x_1d.shape}\")\n",
    "print(x_1d)\n",
    "print(f\"Number of 2D tensors: {len(x_2d_list)}\")\n",
    "\n",
    "for i, x_2d in enumerate(x_2d_list):\n",
    "    print(f\"2D tensor {i}: shape {x_2d.shape}, period={periods[i]}, freq={freqs[i]}\")\n",
    "    print(x_2d)"
   ]
  },
  {
   "cell_type": "code",
   "execution_count": null,
   "id": "ed3119d5-5373-47c3-a30f-b7ea3c2f255c",
   "metadata": {},
   "outputs": [],
   "source": []
  }
 ],
 "metadata": {
  "kernelspec": {
   "display_name": "base",
   "language": "python",
   "name": "python3"
  },
  "language_info": {
   "codemirror_mode": {
    "name": "ipython",
    "version": 3
   },
   "file_extension": ".py",
   "mimetype": "text/x-python",
   "name": "python",
   "nbconvert_exporter": "python",
   "pygments_lexer": "ipython3",
   "version": "3.12.7"
  }
 },
 "nbformat": 4,
 "nbformat_minor": 5
}

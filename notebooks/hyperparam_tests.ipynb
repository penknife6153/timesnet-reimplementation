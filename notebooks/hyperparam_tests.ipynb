{
 "cells": [
  {
   "cell_type": "markdown",
   "id": "188f72a2",
   "metadata": {},
   "source": [
    "### Hyperparam Testing:\n",
    "\n",
    "1. Start by identifying the hyperparameters from the model calls, functions calls, function initializations, and the paper. Focus on author's implementation or others found on the web. Mention which implementation you are using in your report. \n",
    "2. Then test a the base model recommended by the authors\n",
    "3. Then do hyperparamter testing like I showed you before. If there is a hyperparameter that can't be testing leave it blank. \n",
    "4. Lastly, test the effect of adding linear (-1 to 1) meta data (time, day of the week, day of the month, month of the year, season of the year, and holiday)."
   ]
  },
  {
   "cell_type": "code",
   "execution_count": null,
   "id": "4516af6a",
   "metadata": {},
   "outputs": [],
   "source": []
  }
 ],
 "metadata": {
  "language_info": {
   "name": "python"
  }
 },
 "nbformat": 4,
 "nbformat_minor": 5
}

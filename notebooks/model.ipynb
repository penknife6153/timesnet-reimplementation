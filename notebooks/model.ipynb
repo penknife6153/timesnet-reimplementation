{
 "cells": [
  {
   "cell_type": "code",
   "execution_count": 2,
   "id": "76cb5e31",
   "metadata": {},
   "outputs": [],
   "source": [
    "import torch\n",
    "import torch.nn as nn\n",
    "import torch.nn.functional as F\n",
    "import pandas as pd"
   ]
  },
  {
   "cell_type": "markdown",
   "id": "86995be3",
   "metadata": {},
   "source": [
    "### TODO: find and use panama dataset, and ETTh1 for comparing metrics"
   ]
  },
  {
   "cell_type": "code",
   "execution_count": 23,
   "id": "be16bc8b",
   "metadata": {},
   "outputs": [
    {
     "name": "stdout",
     "output_type": "stream",
     "text": [
      "X_1d.shape = torch.Size([10, 3])\n"
     ]
    }
   ],
   "source": [
    "# X_1d = torch.tensor((pd.read_csv(\"electricity.csv\").to_numpy())) # yet to verify if this is how the model expects the data.\n",
    "X_1d = torch.rand(10, 3)\n",
    "print(f'{X_1d.shape = }')"
   ]
  },
  {
   "cell_type": "markdown",
   "id": "487af278",
   "metadata": {},
   "source": [
    "### hyperparameters"
   ]
  },
  {
   "cell_type": "code",
   "execution_count": 24,
   "id": "979ad881",
   "metadata": {},
   "outputs": [],
   "source": [
    "k = 6       # TODO: find out how the default top k value is selected.\n",
    "T = 96      # sequence length (?)\n",
    "H = 48      # forecast horizon (?)"
   ]
  },
  {
   "cell_type": "markdown",
   "id": "e7fef08f",
   "metadata": {},
   "source": [
    "### FFT"
   ]
  },
  {
   "cell_type": "code",
   "execution_count": 25,
   "id": "6941a27f",
   "metadata": {},
   "outputs": [],
   "source": [
    "def fft_period(x_1d:torch.Tensor, k:int=5):\n",
    "    \"\"\"\n",
    "    Extract top-k periods from 1d time series using FFT.\n",
    "    \n",
    "    args:\n",
    "        x_1d: torch.Tensor of shape [T,C], where T is no. of timesteps, c is no. of channels\n",
    "        k: number of top frequencies to extract (default=5)\n",
    "    \n",
    "    returns:\n",
    "        A: amplitude values for all frequencies\n",
    "        freqs: top-k frequency indices\n",
    "        periods: corresponding period lengths\n",
    "    \"\"\"\n",
    "    \n",
    "    T, C = x_1d.shape\n",
    "    \n",
    "    A = torch.abs(torch.fft.rfft(x_1d)) # get amplitudes (TODO: verify wrt original implementation)\n",
    "    A = torch.mean(A, dim=1) # mean along channel dimension; [T,1] dimensions\n",
    "    A = A[:T/2] # only use first half due to conjugacy of freq domain\n",
    "\n",
    "    freqs = torch.topk(A, k) # we only do it till T/2 due to conjugacy of frequency domain (TODO: understand why)\n",
    "    periods = torch.ceil(T / freqs.float()).int() # CORRECTED\n",
    "    \n",
    "    return A, freqs, periods"
   ]
  },
  {
   "cell_type": "markdown",
   "id": "68efbbfb",
   "metadata": {},
   "source": [
    "### Padding before reshape"
   ]
  },
  {
   "cell_type": "code",
   "execution_count": 26,
   "id": "6afb0158",
   "metadata": {},
   "outputs": [],
   "source": [
    "def zero_padding(x_1d:torch.Tensor, period: int):\n",
    "    \"\"\"\n",
    "    Zeros added to the front.\n",
    "    \n",
    "    args:\n",
    "        x_1d: torch.Tensor of shape [T, C]\n",
    "        period: int, \n",
    "    \"\"\"\n",
    "    \n",
    "    T, C = x_1d.shape\n",
    "    \n",
    "    remaining_length = T - T // period * period\n",
    "\n",
    "    if remaining_length == 0:\n",
    "        return x_1d\n",
    "    else:\n",
    "        return torch.cat([torch.zeros(period - remaining_length, C), x_1d], dim=0) # 0 = time dimension"
   ]
  },
  {
   "cell_type": "code",
   "execution_count": 27,
   "id": "64cd80e4",
   "metadata": {},
   "outputs": [],
   "source": [
    "def circular_padding(x_1d:torch.Tensor, period: int):\n",
    "    \"\"\"\n",
    "    Stuff from back added to the front, in reverse order.\n",
    "    \n",
    "    args:\n",
    "        x_1d: torch.Tensor of shape [T, C]\n",
    "        period: int, \n",
    "    \"\"\"\n",
    "    \n",
    "    T, C = x_1d.shape\n",
    "    \n",
    "    remaining_length = T - T // period * period\n",
    "\n",
    "    if remaining_length == 0:\n",
    "        return x_1d\n",
    "    else:\n",
    "        return torch.cat([x_1d[-remaining_length:,:][::-1,:], x_1d], dim=0) # 0 = time dimension"
   ]
  },
  {
   "cell_type": "markdown",
   "id": "11e548d6",
   "metadata": {},
   "source": [
    "### Reshape to 2D"
   ]
  },
  {
   "cell_type": "code",
   "execution_count": null,
   "id": "d8371247",
   "metadata": {},
   "outputs": [],
   "source": [
    "x_2d_list = []\n",
    "\n",
    "_, freqs, periods =  fft_period(X_1d, k=k)\n",
    "\n",
    "for i in range(k):\n",
    "    freq, period = freqs[i], periods[i]\n",
    "    padded_list_2d = torch.reshape(zero_padding(X_1d, period), [period, freq])\n",
    "    x_2d_list.append(padded_list_2d)"
   ]
  },
  {
   "cell_type": "markdown",
   "id": "cb650ffc",
   "metadata": {},
   "source": [
    "### TimesBlock"
   ]
  },
  {
   "cell_type": "code",
   "execution_count": null,
   "id": "4b6638fe",
   "metadata": {},
   "outputs": [],
   "source": [
    "A_prev, freqs, periods = "
   ]
  },
  {
   "cell_type": "code",
   "execution_count": null,
   "id": "bb027f04",
   "metadata": {},
   "outputs": [
    {
     "name": "stdout",
     "output_type": "stream",
     "text": [
      "mean_amps = tensor([1.2689, 1.0900, 1.4195, 1.1849, 0.9105, 0.9596, 1.3262, 1.2720, 0.8588,\n",
      "        1.1586, 1.2602, 1.2626])\n"
     ]
    }
   ],
   "source": [
    "sample_t = 12\n",
    "sample_c = 3\n",
    "\n",
    "mean_amps = torch.mean(torch.abs(torch.fft.rfft(torch.rand([sample_t, sample_c]))), dim=1)\n",
    "print(f\"{mean_amps = }\")"
   ]
  },
  {
   "cell_type": "code",
   "execution_count": null,
   "id": "edcc5710",
   "metadata": {},
   "outputs": [
    {
     "data": {
      "text/plain": [
       "torch.return_types.topk(\n",
       "values=tensor([1.9793, 1.8895, 1.7872]),\n",
       "indices=tensor([5, 3, 7]))"
      ]
     },
     "execution_count": 38,
     "metadata": {},
     "output_type": "execute_result"
    }
   ],
   "source": [
    "torch.topk(mean_amps[:], k=3)"
   ]
  },
  {
   "cell_type": "code",
   "execution_count": null,
   "id": "7646cb8d",
   "metadata": {},
   "outputs": [],
   "source": []
  }
 ],
 "metadata": {
  "kernelspec": {
   "display_name": "Python 3 (ipykernel)",
   "language": "python",
   "name": "python3"
  },
  "language_info": {
   "codemirror_mode": {
    "name": "ipython",
    "version": 3
   },
   "file_extension": ".py",
   "mimetype": "text/x-python",
   "name": "python",
   "nbconvert_exporter": "python",
   "pygments_lexer": "ipython3",
   "version": "3.11.9"
  }
 },
 "nbformat": 4,
 "nbformat_minor": 5
}
